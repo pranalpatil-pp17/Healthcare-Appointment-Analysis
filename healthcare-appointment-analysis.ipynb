{
 "cells": [
  {
   "cell_type": "markdown",
   "id": "11abd962",
   "metadata": {
    "papermill": {
     "duration": 0.002196,
     "end_time": "2024-12-27T09:25:19.109929",
     "exception": false,
     "start_time": "2024-12-27T09:25:19.107733",
     "status": "completed"
    },
    "tags": []
   },
   "source": [
    "# Healthcare Appointment Dashboard"
   ]
  },
  {
   "cell_type": "code",
   "execution_count": null,
   "id": "fed22262",
   "metadata": {
    "papermill": {
     "duration": 0.001341,
     "end_time": "2024-12-27T09:25:19.113354",
     "exception": false,
     "start_time": "2024-12-27T09:25:19.112013",
     "status": "completed"
    },
    "tags": []
   },
   "outputs": [],
   "source": []
  },
  {
   "cell_type": "markdown",
   "id": "fddabd45",
   "metadata": {
    "papermill": {
     "duration": 0.001257,
     "end_time": "2024-12-27T09:25:19.116101",
     "exception": false,
     "start_time": "2024-12-27T09:25:19.114844",
     "status": "completed"
    },
    "tags": []
   },
   "source": [
    "### 📊 Ministry of Health Appointment Scheduling Dashboard  \n",
    "\n",
    "This project involves analyzing and visualizing a dataset containing appointment scheduling details of the Ministry of Health and patient information, including names and patient IDs. The goal is to provide meaningful insights to enhance healthcare operations and improve patient experiences.\n",
    "\n",
    "💡 **Key Features**:\n",
    "- **Dataset:** Focuses on appointment scheduling and patient information.\n",
    "- **Data Visualization:** Created using Power BI to present insightful and interactive dashboards.\n",
    "\n",
    "[🔗 **View the Power BI Dashboard**](https://github.com/pranalpatil-pp17/Healthcare-Appointment-Analysis/tree/main)  \n",
    "\n",
    "Your feedback and suggestions are highly appreciated!\n",
    "\n",
    "---\n",
    "\n",
    "Let me know if you'd like any further edits!\n"
   ]
  },
  {
   "cell_type": "code",
   "execution_count": null,
   "id": "8c02722d",
   "metadata": {
    "papermill": {
     "duration": 0.001227,
     "end_time": "2024-12-27T09:25:19.118795",
     "exception": false,
     "start_time": "2024-12-27T09:25:19.117568",
     "status": "completed"
    },
    "tags": []
   },
   "outputs": [],
   "source": []
  }
 ],
 "metadata": {
  "kaggle": {
   "accelerator": "none",
   "dataSources": [
    {
     "datasetId": 5470844,
     "sourceId": 9253037,
     "sourceType": "datasetVersion"
    }
   ],
   "dockerImageVersionId": 30822,
   "isGpuEnabled": false,
   "isInternetEnabled": true,
   "language": "python",
   "sourceType": "notebook"
  },
  "kernelspec": {
   "display_name": "Python 3",
   "language": "python",
   "name": "python3"
  },
  "language_info": {
   "codemirror_mode": {
    "name": "ipython",
    "version": 3
   },
   "file_extension": ".py",
   "mimetype": "text/x-python",
   "name": "python",
   "nbconvert_exporter": "python",
   "pygments_lexer": "ipython3",
   "version": "3.10.12"
  },
  "papermill": {
   "default_parameters": {},
   "duration": 2.604331,
   "end_time": "2024-12-27T09:25:19.540149",
   "environment_variables": {},
   "exception": null,
   "input_path": "__notebook__.ipynb",
   "output_path": "__notebook__.ipynb",
   "parameters": {},
   "start_time": "2024-12-27T09:25:16.935818",
   "version": "2.6.0"
  }
 },
 "nbformat": 4,
 "nbformat_minor": 5
}
